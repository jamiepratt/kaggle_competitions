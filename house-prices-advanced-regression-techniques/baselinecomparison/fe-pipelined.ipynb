{
 "metadata": {
  "jupytext": {
   "cell_metadata_filter": "-all",
   "formats": "ipynb"
  },
  "kernelspec": {
   "display_name": "Python 3",
   "language": "python",
   "name": "python3"
  },
  "language_info": {
   "codemirror_mode": {
    "name": "ipython",
    "version": 3
   },
   "file_extension": ".py",
   "mimetype": "text/x-python",
   "name": "python",
   "nbconvert_exporter": "python",
   "pygments_lexer": "ipython3",
   "version": "3.6.5"
  }
 },
 "nbformat_minor": 4,
 "nbformat": 4,
 "cells": [
  {
   "cell_type": "code",
   "execution_count": 7,
   "outputs": [
    {
     "name": "stdout",
     "output_type": "stream",
     "text": [
      "Baseline score: 0.13803 RMSLE\n"
     ]
    }
   ],
   "source": [
    "import warnings\n",
    "from pathlib import Path\n",
    "\n",
    "import matplotlib.pyplot as plt\n",
    "import numpy as np\n",
    "import pandas as pd\n",
    "\n",
    "from sklearn.compose import ColumnTransformer\n",
    "from sklearn.pipeline import Pipeline\n",
    "from sklearn.impute import SimpleImputer\n",
    "from sklearn.preprocessing import OrdinalEncoder\n",
    "from sklearn.preprocessing import FunctionTransformer\n",
    "\n",
    "np.random.seed(0)\n",
    "\n",
    "from sklearn.model_selection import KFold, cross_val_score\n",
    "from xgboost import XGBRegressor\n",
    "\n",
    "# Mute warnings\n",
    "warnings.filterwarnings('ignore')\n",
    "\n",
    "\n",
    "def clean(df:pd.DataFrame):\n",
    "    df[[\"Exterior1st\", \"Exterior2nd\"]] = df[[\"Exterior1st\", \"Exterior2nd\"]].replace(\n",
    "        {\"Brk Cmn\": \"BrkComm\",\n",
    "         \"BrkCmn\" : \"BrkComm\",\n",
    "         \"Wd Sdng\": \"WdSdng\",\n",
    "         \"Wd Shng\": \"WdShng\"}\n",
    "    )\n",
    "    # Some values of GarageYrBlt are corrupt, so we'll replace them\n",
    "    # with the year the house was built\n",
    "    df[\"GarageYrBlt\"] = df[\"GarageYrBlt\"].where(df.GarageYrBlt <= 2010, df.YearBuilt)\n",
    "    # Names beginning with numbers are awkward to work with\n",
    "    df = df.rename(columns={\n",
    "            \"1stFlrSF\": \"FirstFlrSF\",\n",
    "            \"2ndFlrSF\": \"SecondFlrSF\",\n",
    "            \"3SsnPorch\": \"Threeseasonporch\",\n",
    "        }\n",
    "    )\n",
    "    return df\n",
    "\n",
    "\n",
    "# The numeric features are already encoded correctly (`float` for\n",
    "# continuous, `int` for discrete), but the categoricals we'll need to\n",
    "# do ourselves. Note in particular, that the `MSSubClass` feature is\n",
    "# read as an `int` type, but is actually a (nominative) categorical.\n",
    "\n",
    "# The nominative (unordered) categorical features\n",
    "features_nom = [\"MSSubClass\", \"MSZoning\", \"Street\", \"Alley\", \"LandContour\", \"LotConfig\", \"Neighborhood\", \"Condition1\", \"Condition2\", \"BldgType\", \"HouseStyle\", \"RoofStyle\", \"RoofMatl\", \"Exterior1st\", \"Exterior2nd\", \"MasVnrType\", \"Foundation\", \"Heating\", \"GarageType\", \"MiscFeature\", \"SaleType\", \"SaleCondition\"]\n",
    "\n",
    "\n",
    "# The ordinal (ordered) categorical features\n",
    "# Pandas calls the categories \"levels\"\n",
    "five_levels = [\"Po\", \"Fa\", \"TA\", \"Gd\", \"Ex\"]\n",
    "ten_levels = list(range(1,11))\n",
    "\n",
    "ordered_levels = {\n",
    "    \"OverallQual\": ten_levels,\n",
    "    \"OverallCond\": ten_levels,\n",
    "    \"ExterQual\": five_levels,\n",
    "    \"ExterCond\": five_levels,\n",
    "    \"BsmtQual\": five_levels,\n",
    "    \"BsmtCond\": five_levels,\n",
    "    \"HeatingQC\": five_levels,\n",
    "    \"KitchenQual\": five_levels,\n",
    "    \"FireplaceQu\": five_levels,\n",
    "    \"GarageQual\": five_levels,\n",
    "    \"GarageCond\": five_levels,\n",
    "    \"PoolQC\": five_levels,\n",
    "    \"LotShape\": [\"Reg\", \"IR1\", \"IR2\", \"IR3\"],\n",
    "    \"LandSlope\": [\"Sev\", \"Mod\", \"Gtl\"],\n",
    "    \"BsmtExposure\": [\"No\", \"Mn\", \"Av\", \"Gd\"],\n",
    "    \"BsmtFinType1\": [\"Unf\", \"LwQ\", \"Rec\", \"BLQ\", \"ALQ\", \"GLQ\"],\n",
    "    \"BsmtFinType2\": [\"Unf\", \"LwQ\", \"Rec\", \"BLQ\", \"ALQ\", \"GLQ\"],\n",
    "    \"Functional\": [\"Sal\", \"Sev\", \"Maj1\", \"Maj2\", \"Mod\", \"Min2\", \"Min1\", \"Typ\"],\n",
    "    \"GarageFinish\": [\"Unf\", \"RFn\", \"Fin\"],\n",
    "    \"PavedDrive\": [\"N\", \"P\", \"Y\"],\n",
    "    \"Utilities\": [\"NoSeWa\", \"NoSewr\", \"AllPub\"],\n",
    "    \"CentralAir\": [\"N\", \"Y\"],\n",
    "    \"Electrical\": [\"Mix\", \"FuseP\", \"FuseF\", \"FuseA\", \"SBrkr\"],\n",
    "    \"Fence\": [\"MnWw\", \"GdWo\", \"MnPrv\", \"GdPrv\"],\n",
    "}\n",
    "\n",
    "for col in ordered_levels.keys(): ordered_levels[col].insert(0, \"None\")\n",
    "\n",
    "def load_data():\n",
    "    # Read data\n",
    "    data_dir = Path(\"../../input/house-prices-advanced-regression-techniques/\")\n",
    "    df_train = pd.read_csv(data_dir / \"train.csv\", index_col=\"Id\")\n",
    "    df_test = pd.read_csv(data_dir / \"test.csv\", index_col=\"Id\")\n",
    "\n",
    "    X_train = df_train.copy()\n",
    "    y_train = X_train.pop(\"SalePrice\")\n",
    "    X_test = df_test.copy()\n",
    "\n",
    "    return X_train, y_train, X_test\n",
    "\n",
    "\n",
    "def array_to_df(array, *, columns):\n",
    "    return pd.DataFrame(array, columns=columns)\n",
    "\n",
    "def pipeline() :\n",
    "    imputer = ColumnTransformer(\n",
    "        transformers=[\n",
    "            (\"ordered_cats\", SimpleImputer(strategy=\"constant\", fill_value=\"None\", copy=False), list(ordered_levels.keys())),\n",
    "            (\"nominal_cats\", SimpleImputer(strategy=\"constant\", fill_value=\"None\", copy=False), features_nom)\n",
    "        ],\n",
    "        remainder=SimpleImputer(strategy=\"constant\", fill_value=0, copy=False)\n",
    "    )\n",
    "\n",
    "    clean_encode_impute_model = Pipeline(\n",
    "        steps= [\n",
    "            (\"clean\", FunctionTransformer(clean, check_inverse=False)),\n",
    "            (\"impute\", imputer),\n",
    "            ('label_encoder', ColumnTransformer(\n",
    "                transformers=[\n",
    "                    (\"ordered_cats\", OrdinalEncoder(categories=list(ordered_levels.values())),\n",
    "                     list(range(len(ordered_levels.keys())))),\n",
    "\n",
    "                    (\"nominal_cats\", OrdinalEncoder(categories='auto', handle_unknown='use_encoded_value', unknown_value=-1),\n",
    "                     list(range(len(ordered_levels.keys()), len(ordered_levels.keys())+len(features_nom))))\n",
    "                ],\n",
    "                remainder='passthrough'))\n",
    "        ]\n",
    "    )\n",
    "    return clean_encode_impute_model\n",
    "\n",
    "\n",
    "def score_dataset(X, y, model=XGBRegressor()):\n",
    "    datapipeline = pipeline()\n",
    "    datapipeline.steps.append((\"model\", model))\n",
    "    #Metric for Housing competition is RMSLE (Root Mean Squared Log Error)\n",
    "    log_y = np.log(y)\n",
    "    score = cross_val_score(\n",
    "        datapipeline, X, log_y, cv=5, scoring=\"neg_mean_squared_error\",\n",
    "    )\n",
    "    score = -1 * score.mean()\n",
    "    score = np.sqrt(score)\n",
    "    return score\n",
    "\n",
    "X_train, y_train, X_test = load_data()\n",
    "# Establish Baseline\n",
    "# Finally, let’s establish a baseline score to judge our feature engineering against.\n",
    "baseline_score = score_dataset(X_train, y_train)\n",
    "print(f\"Baseline score: {baseline_score:.5f} RMSLE\")"
   ],
   "metadata": {
    "collapsed": false,
    "pycharm": {
     "name": "#%%\n"
    }
   }
  },
  {
   "cell_type": "markdown",
   "source": [
    "# Let's take a look at the transformed data."
   ],
   "metadata": {
    "collapsed": false
   }
  },
  {
   "cell_type": "code",
   "execution_count": 8,
   "outputs": [
    {
     "data": {
      "text/plain": "array([[8.0, 6.0, 13.0, ..., 0.0, 2.0, 2008.0],\n       [7.0, 9.0, 12.0, ..., 0.0, 5.0, 2007.0],\n       [8.0, 6.0, 13.0, ..., 0.0, 9.0, 2008.0],\n       ...,\n       [8.0, 10.0, 14.0, ..., 2500.0, 5.0, 2010.0],\n       [6.0, 7.0, 12.0, ..., 0.0, 4.0, 2010.0],\n       [6.0, 7.0, 13.0, ..., 0.0, 6.0, 2008.0]], dtype=object)"
     },
     "execution_count": 8,
     "metadata": {},
     "output_type": "execute_result"
    }
   ],
   "source": [
    "transformed = pipeline().fit_transform(X_train)\n",
    "transformed"
   ],
   "metadata": {
    "collapsed": false,
    "pycharm": {
     "name": "#%%\n"
    }
   }
  }
 ]
}