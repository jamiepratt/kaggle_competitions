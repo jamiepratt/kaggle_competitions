{
 "metadata": {
  "jupytext": {
   "cell_metadata_filter": "-all",
   "formats": "ipynb"
  },
  "kernelspec": {
   "display_name": "Python 3",
   "language": "python",
   "name": "python3"
  },
  "language_info": {
   "codemirror_mode": {
    "name": "ipython",
    "version": 3
   },
   "file_extension": ".py",
   "mimetype": "text/x-python",
   "name": "python",
   "nbconvert_exporter": "python",
   "pygments_lexer": "ipython3",
   "version": "3.6.5"
  }
 },
 "nbformat_minor": 4,
 "nbformat": 4,
 "cells": [
  {
   "cell_type": "markdown",
   "source": [
    "**This notebook is an exercise in the [Feature Engineering](https://www.kaggle.com/learn/feature-engineering) course.  You can reference the tutorial at [this link](https://www.kaggle.com/ryanholbrook/principal-component-analysis).**\n",
    "\n",
    "---\n"
   ],
   "metadata": {}
  },
  {
   "cell_type": "markdown",
   "source": [
    "# Introduction #\n",
    "\n",
    "In this exercise, you'll work through several applications of PCA to the [*Ames*](https://www.kaggle.com/c/house-prices-advanced-regression-techniques/data) dataset."
   ],
   "metadata": {}
  },
  {
   "cell_type": "markdown",
   "source": [
    "Run this cell to set everything up!"
   ],
   "metadata": {}
  },
  {
   "cell_type": "code",
   "source": [
    "\n",
    "import matplotlib.pyplot as plt\n",
    "import numpy as np\n",
    "import pandas as pd\n",
    "import seaborn as sns\n",
    "from sklearn.decomposition import PCA\n",
    "from sklearn.feature_selection import mutual_info_regression\n",
    "from sklearn.model_selection import cross_val_score\n",
    "from xgboost import XGBRegressor\n",
    "\n",
    "# Set Matplotlib defaults\n",
    "plt.style.use(\"seaborn-whitegrid\")\n",
    "plt.rc(\"figure\", autolayout=True)\n",
    "plt.rc(\n",
    "    \"axes\",\n",
    "    labelweight=\"bold\",\n",
    "    labelsize=\"large\",\n",
    "    titleweight=\"bold\",\n",
    "    titlesize=14,\n",
    "    titlepad=10,\n",
    ")\n",
    "\n",
    "\n",
    "def apply_pca(X, standardize=True):\n",
    "    # Standardize\n",
    "    if standardize:\n",
    "        X = (X - X.mean(axis=0)) / X.std(axis=0)\n",
    "    # Create principal components\n",
    "    pca = PCA()\n",
    "    X_pca = pca.fit_transform(X)\n",
    "    # Convert to dataframe\n",
    "    component_names = [f\"PC{i+1}\" for i in range(X_pca.shape[1])]\n",
    "    X_pca = pd.DataFrame(X_pca, columns=component_names)\n",
    "    # Create loadings\n",
    "    loadings = pd.DataFrame(\n",
    "        pca.components_.T,  # transpose the matrix of loadings\n",
    "        columns=component_names,  # so the columns are the principal components\n",
    "        index=X.columns,  # and the rows are the original features\n",
    "    )\n",
    "    return pca, X_pca, loadings\n",
    "\n",
    "\n",
    "def plot_variance(pca, width=8, dpi=100):\n",
    "    # Create figure\n",
    "    fig, axs = plt.subplots(1, 2)\n",
    "    n = pca.n_components_\n",
    "    grid = np.arange(1, n + 1)\n",
    "    # Explained variance\n",
    "    evr = pca.explained_variance_ratio_\n",
    "    axs[0].bar(grid, evr)\n",
    "    axs[0].set(\n",
    "        xlabel=\"Component\", title=\"% Explained Variance\", ylim=(0.0, 1.0)\n",
    "    )\n",
    "    # Cumulative Variance\n",
    "    cv = np.cumsum(evr)\n",
    "    axs[1].plot(np.r_[0, grid], np.r_[0, cv], \"o-\")\n",
    "    axs[1].set(\n",
    "        xlabel=\"Component\", title=\"% Cumulative Variance\", ylim=(0.0, 1.0)\n",
    "    )\n",
    "    # Set up figure\n",
    "    fig.set(figwidth=8, dpi=100)\n",
    "    return axs\n",
    "\n",
    "\n",
    "def make_mi_scores(X, y):\n",
    "    X = X.copy()\n",
    "    for colname in X.select_dtypes([\"object\", \"category\"]):\n",
    "        X[colname], _ = X[colname].factorize()\n",
    "    # All discrete features should now have integer dtypes\n",
    "    discrete_features = [pd.api.types.is_integer_dtype(t) for t in X.dtypes]\n",
    "    mi_scores = mutual_info_regression(X, y, discrete_features=discrete_features, random_state=0)\n",
    "    mi_scores = pd.Series(mi_scores, name=\"MI Scores\", index=X.columns)\n",
    "    mi_scores = mi_scores.sort_values(ascending=False)\n",
    "    return mi_scores\n",
    "\n",
    "\n",
    "def score_dataset(X, y, model=XGBRegressor()):\n",
    "    # Label encoding for categoricals\n",
    "    for colname in X.select_dtypes([\"category\", \"object\"]):\n",
    "        X[colname], _ = X[colname].factorize()\n",
    "    # Metric for Housing competition is RMSLE (Root Mean Squared Log Error)\n",
    "    score = cross_val_score(\n",
    "        model, X, y, cv=5, scoring=\"neg_mean_squared_log_error\",\n",
    "    )\n",
    "    score = -1 * score.mean()\n",
    "    score = np.sqrt(score)\n",
    "    return score\n",
    "\n",
    "\n",
    "df = pd.read_csv(\"../input/fe-course-data/ames.csv\")"
   ],
   "metadata": {},
   "execution_count": 1,
   "outputs": []
  },
  {
   "cell_type": "markdown",
   "source": [
    "Let's choose a few features that are highly correlated with our target, `SalePrice`.\n"
   ],
   "metadata": {}
  },
  {
   "cell_type": "code",
   "source": [
    "features = [\n",
    "    \"GarageArea\",\n",
    "    \"YearRemodAdd\",\n",
    "    \"TotalBsmtSF\",\n",
    "    \"GrLivArea\",\n",
    "]\n",
    "\n",
    "print(\"Correlation with SalePrice:\\n\")\n",
    "print(df[features].corrwith(df.SalePrice))"
   ],
   "metadata": {},
   "execution_count": 2,
   "outputs": [
    {
     "name": "stdout",
     "output_type": "stream",
     "text": [
      "Correlation with SalePrice:\n",
      "\n",
      "GarageArea      0.640138\n",
      "YearRemodAdd    0.532974\n",
      "TotalBsmtSF     0.632529\n",
      "GrLivArea       0.706780\n",
      "dtype: float64\n"
     ]
    }
   ]
  },
  {
   "cell_type": "markdown",
   "source": [
    "We'll rely on PCA to untangle the correlational structure of these features and suggest relationships that might be usefully modeled with new features.\n",
    "\n",
    "Run this cell to apply PCA and extract the loadings."
   ],
   "metadata": {}
  },
  {
   "cell_type": "code",
   "source": [
    "X = df.copy()\n",
    "y = X.pop(\"SalePrice\")\n",
    "X = X.loc[:, features]\n",
    "\n",
    "# `apply_pca`, defined above, reproduces the code from the tutorial\n",
    "pca, X_pca, loadings = apply_pca(X)\n",
    "print(loadings)"
   ],
   "metadata": {},
   "execution_count": 5,
   "outputs": [
    {
     "name": "stdout",
     "output_type": "stream",
     "text": [
      "                   PC1       PC2       PC3       PC4\n",
      "GarageArea    0.541229  0.102375 -0.038470  0.833733\n",
      "YearRemodAdd  0.427077 -0.886612 -0.049062 -0.170639\n",
      "TotalBsmtSF   0.510076  0.360778 -0.666836 -0.406192\n",
      "GrLivArea     0.514294  0.270700  0.742592 -0.332837\n"
     ]
    }
   ]
  },
  {
   "cell_type": "code",
   "execution_count": 13,
   "outputs": [
    {
     "data": {
      "text/plain": "y      5.976989\nPC1    0.873029\nPC3    0.341337\nPC2    0.262388\nPC4    0.087857\nName: MI Scores, dtype: float64"
     },
     "execution_count": 13,
     "metadata": {},
     "output_type": "execute_result"
    }
   ],
   "source": [
    "\n",
    "make_mi_scores(X_pca, y)\n"
   ],
   "metadata": {
    "collapsed": false,
    "pycharm": {
     "name": "#%%\n"
    }
   }
  },
  {
   "cell_type": "markdown",
   "source": [
    "# 1) Interpret Component Loadings\n",
    "\n",
    "Look at the loadings for components `PC1` and `PC3`. Can you think of a description of what kind of contrast each component has captured?\n",
    "\n",
    "The first component, PC1, seems to be a kind of \"size\" component, similar to what we saw in the tutorial: all of the features have the same sign (positive), indicating that this component is describing a contrast between houses having large values and houses having small values for these features.\n",
    "\n",
    "The interpretation of the third component PC3 is a little trickier. The features GarageArea and YearRemodAdd both have near-zero loadings, so let's ignore those. This component is mostly about TotalBsmtSF and GrLivArea. It describes a contrast between houses with a lot of living area but small (or non-existant) basements, and the opposite: small houses with large basements."
   ],
   "metadata": {}
  },
  {
   "cell_type": "markdown",
   "source": [
    "-------------------------------------------------------------------------------\n",
    "\n",
    "Your goal in this question is to use the results of PCA to discover one or more new features that improve the performance of your model. One option is to create features inspired by the loadings, like we did in the tutorial. Another option is to use the components themselves as features (that is, add one or more columns of `X_pca` to `X`).\n",
    "\n",
    "# 2) Create New Features\n",
    "\n",
    "Add one or more new features to the dataset `X`. For a correct solution, get a validation score below 0.140 RMSLE. (If you get stuck, feel free to use the `hint` below!)"
   ],
   "metadata": {}
  },
  {
   "cell_type": "code",
   "source": [
    "X = df.copy()\n",
    "y = X.pop(\"SalePrice\")\n",
    "\n",
    "X[\"Feature1\"] = X.GrLivArea + X.TotalBsmtSF\n",
    "X[\"Feature2\"] = X.YearRemodAdd * X.TotalBsmtSF\n",
    "\n",
    "score = score_dataset(X, y)\n",
    "print(f\"Your score: {score:.5f} RMSLE\")\n"
   ],
   "metadata": {
    "lines_to_next_cell": 0
   },
   "execution_count": 27,
   "outputs": [
    {
     "name": "stdout",
     "output_type": "stream",
     "text": [
      "Your score: 0.13361 RMSLE\n"
     ]
    }
   ]
  },
  {
   "cell_type": "markdown",
   "source": [
    "-------------------------------------------------------------------------------\n",
    "\n",
    "The next question explores a way you can use PCA to detect outliers in the dataset (meaning, data points that are unusually extreme in some way). Outliers can have a detrimental effect on model performance, so it's good to be aware of them in case you need to take corrective action. PCA in particular can show you anomalous *variation* which might not be apparent from the original features: neither small houses nor houses with large basements are unusual, but it is unusual for small houses to have large basements. That's the kind of thing a principal component can show you.\n",
    "\n",
    "Run the next cell to show distribution plots for each of the principal components you created above."
   ],
   "metadata": {}
  },
  {
   "cell_type": "code",
   "source": [
    "sns.catplot(\n",
    "    y=\"value\",\n",
    "    col=\"variable\",\n",
    "    data=X_pca.melt(),\n",
    "    kind='boxen',\n",
    "    sharey=False,\n",
    "    col_wrap=2,\n",
    ");"
   ],
   "metadata": {},
   "execution_count": 28,
   "outputs": [
    {
     "data": {
      "text/plain": "<Figure size 720x1080 with 5 Axes>",
      "image/png": "[encoded data removed]"
     },
     "metadata": {},
     "output_type": "display_data"
    }
   ]
  },
  {
   "cell_type": "markdown",
   "source": [
    "As you can see, in each of the components there are several points lying at the extreme ends of the distributions -- outliers, that is.\n",
    "\n",
    "Now run the next cell to see those houses that sit at the extremes of a component:"
   ],
   "metadata": {}
  },
  {
   "cell_type": "code",
   "source": [
    "# You can change PC1 to PC2, PC3, or PC4\n",
    "component = \"PC4\"\n",
    "\n",
    "idx = X_pca[component].sort_values(ascending=False).index\n",
    "df.loc[idx, [\"SalePrice\", \"Neighborhood\", \"SaleCondition\"] + features].join(X_pca[component].sort_values(ascending=False))"
   ],
   "metadata": {},
   "execution_count": 33,
   "outputs": [
    {
     "data": {
      "text/plain": "      SalePrice                             Neighborhood SaleCondition  \\\n1258     139000                                 Old_Town        Normal   \n1557      81000                   Iowa_DOT_and_Rail_Road        Normal   \n746      126500                                Brookside        Normal   \n2282     168000                                 Mitchell        Normal   \n2278     130000                                 Mitchell        Normal   \n...         ...                                      ...           ...   \n1772     430000                               Northridge        Normal   \n2045     200500                              Clear_Creek        Normal   \n2194     200000  South_and_West_of_Iowa_State_University       Abnorml   \n2180     183850                                  Edwards       Partial   \n1498     160000                                  Edwards       Partial   \n\n      GarageArea  YearRemodAdd  TotalBsmtSF  GrLivArea       PC4  \n1258      1488.0          1950        892.0     1436.0  4.402829  \n1557      1248.0          1950        894.0      894.0  3.827981  \n746       1184.0          1950       1072.0     1072.0  3.298855  \n2282      1356.0          1975       1249.0     1622.0  3.235587  \n2278      1041.0          1953          0.0     2034.0  3.074327  \n...          ...           ...          ...        ...       ...  \n1772       546.0          1993       3200.0     3228.0 -2.904521  \n2045         0.0          1994       1598.0     3086.0 -3.458996  \n2194         0.0          1995       1440.0     3395.0 -3.525088  \n2180      1154.0          2009       5095.0     5095.0 -3.654557  \n1498      1418.0          2008       6110.0     5642.0 -3.918630  \n\n[2930 rows x 8 columns]",
      "text/html": "<div>\n<style scoped>\n    .dataframe tbody tr th:only-of-type {\n        vertical-align: middle;\n    }\n\n    .dataframe tbody tr th {\n        vertical-align: top;\n    }\n\n    .dataframe thead th {\n        text-align: right;\n    }\n</style>\n<table border=\"1\" class=\"dataframe\">\n  <thead>\n    <tr style=\"text-align: right;\">\n      <th></th>\n      <th>SalePrice</th>\n      <th>Neighborhood</th>\n      <th>SaleCondition</th>\n      <th>GarageArea</th>\n      <th>YearRemodAdd</th>\n      <th>TotalBsmtSF</th>\n      <th>GrLivArea</th>\n      <th>PC4</th>\n    </tr>\n  </thead>\n  <tbody>\n    <tr>\n      <th>1258</th>\n      <td>139000</td>\n      <td>Old_Town</td>\n      <td>Normal</td>\n      <td>1488.0</td>\n      <td>1950</td>\n      <td>892.0</td>\n      <td>1436.0</td>\n      <td>4.402829</td>\n    </tr>\n    <tr>\n      <th>1557</th>\n      <td>81000</td>\n      <td>Iowa_DOT_and_Rail_Road</td>\n      <td>Normal</td>\n      <td>1248.0</td>\n      <td>1950</td>\n      <td>894.0</td>\n      <td>894.0</td>\n      <td>3.827981</td>\n    </tr>\n    <tr>\n      <th>746</th>\n      <td>126500</td>\n      <td>Brookside</td>\n      <td>Normal</td>\n      <td>1184.0</td>\n      <td>1950</td>\n      <td>1072.0</td>\n      <td>1072.0</td>\n      <td>3.298855</td>\n    </tr>\n    <tr>\n      <th>2282</th>\n      <td>168000</td>\n      <td>Mitchell</td>\n      <td>Normal</td>\n      <td>1356.0</td>\n      <td>1975</td>\n      <td>1249.0</td>\n      <td>1622.0</td>\n      <td>3.235587</td>\n    </tr>\n    <tr>\n      <th>2278</th>\n      <td>130000</td>\n      <td>Mitchell</td>\n      <td>Normal</td>\n      <td>1041.0</td>\n      <td>1953</td>\n      <td>0.0</td>\n      <td>2034.0</td>\n      <td>3.074327</td>\n    </tr>\n    <tr>\n      <th>...</th>\n      <td>...</td>\n      <td>...</td>\n      <td>...</td>\n      <td>...</td>\n      <td>...</td>\n      <td>...</td>\n      <td>...</td>\n      <td>...</td>\n    </tr>\n    <tr>\n      <th>1772</th>\n      <td>430000</td>\n      <td>Northridge</td>\n      <td>Normal</td>\n      <td>546.0</td>\n      <td>1993</td>\n      <td>3200.0</td>\n      <td>3228.0</td>\n      <td>-2.904521</td>\n    </tr>\n    <tr>\n      <th>2045</th>\n      <td>200500</td>\n      <td>Clear_Creek</td>\n      <td>Normal</td>\n      <td>0.0</td>\n      <td>1994</td>\n      <td>1598.0</td>\n      <td>3086.0</td>\n      <td>-3.458996</td>\n    </tr>\n    <tr>\n      <th>2194</th>\n      <td>200000</td>\n      <td>South_and_West_of_Iowa_State_University</td>\n      <td>Abnorml</td>\n      <td>0.0</td>\n      <td>1995</td>\n      <td>1440.0</td>\n      <td>3395.0</td>\n      <td>-3.525088</td>\n    </tr>\n    <tr>\n      <th>2180</th>\n      <td>183850</td>\n      <td>Edwards</td>\n      <td>Partial</td>\n      <td>1154.0</td>\n      <td>2009</td>\n      <td>5095.0</td>\n      <td>5095.0</td>\n      <td>-3.654557</td>\n    </tr>\n    <tr>\n      <th>1498</th>\n      <td>160000</td>\n      <td>Edwards</td>\n      <td>Partial</td>\n      <td>1418.0</td>\n      <td>2008</td>\n      <td>6110.0</td>\n      <td>5642.0</td>\n      <td>-3.918630</td>\n    </tr>\n  </tbody>\n</table>\n<p>2930 rows × 8 columns</p>\n</div>"
     },
     "execution_count": 33,
     "metadata": {},
     "output_type": "execute_result"
    }
   ]
  },
  {
   "cell_type": "markdown",
   "source": [
    "# 3) Outlier Detection\n",
    "\n",
    "Do you notice any patterns in the extreme values? Does it seem like the outliers are coming from some special subset of the data?\n",
    "\n",
    "Notice that there are several dwellings listed as Partial sales in the Edwards neighborhood that stand out. A partial sale is what occurs when there are multiple owners of a property and one or more of them sell their \"partial\" ownership of the property.\n",
    "\n",
    "These kinds of sales are often happen during the settlement of a family estate or the dissolution of a business and aren't advertised publicly. If you were trying to predict the value of a house on the open market, you would probably be justified in removing sales like these from your dataset -- they are truly outliers."
   ],
   "metadata": {}
  },
  {
   "cell_type": "markdown",
   "source": [
    "# Keep Going #\n",
    "\n",
    "[**Apply target encoding**](https://www.kaggle.com/ryanholbrook/target-encoding) to give a boost to categorical features."
   ],
   "metadata": {}
  }
 ]
}